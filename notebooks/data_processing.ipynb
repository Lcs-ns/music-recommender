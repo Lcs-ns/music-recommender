{
 "cells": [
  {
   "cell_type": "code",
   "execution_count": 8,
   "metadata": {},
   "outputs": [
    {
     "name": "stdout",
     "output_type": "stream",
     "text": [
      "   Unnamed: 0 Username           Artist                          Track  \\\n",
      "0           0  Babs_05  Isobel Campbell     The Circus Is Leaving Town   \n",
      "1           1  Babs_05  Isobel Campbell                   Dusty Wreath   \n",
      "2           2  Babs_05  Isobel Campbell     Honey Child What Can I Do?   \n",
      "3           3  Babs_05  Isobel Campbell  It's Hard To Kill A Bad Thing   \n",
      "4           4  Babs_05  Isobel Campbell                Saturday's Gone   \n",
      "\n",
      "                       Album         Date    Time  \n",
      "0  Ballad of the Broken Seas  31 Jan 2021   23:36  \n",
      "1  Ballad of the Broken Seas  31 Jan 2021   23:32  \n",
      "2  Ballad of the Broken Seas  31 Jan 2021   23:28  \n",
      "3  Ballad of the Broken Seas  31 Jan 2021   23:25  \n",
      "4  Ballad of the Broken Seas  31 Jan 2021   23:21  \n"
     ]
    }
   ],
   "source": [
    "import pandas as pd\n",
    "\n",
    "df = pd.read_csv('../data/raw//Last.fm_data.csv')\n",
    "print(df.head())"
   ]
  },
  {
   "cell_type": "code",
   "execution_count": 9,
   "metadata": {},
   "outputs": [
    {
     "name": "stdout",
     "output_type": "stream",
     "text": [
      "<class 'pandas.core.frame.DataFrame'>\n",
      "RangeIndex: 166153 entries, 0 to 166152\n",
      "Data columns (total 7 columns):\n",
      " #   Column      Non-Null Count   Dtype \n",
      "---  ------      --------------   ----- \n",
      " 0   Unnamed: 0  166153 non-null  int64 \n",
      " 1   Username    166153 non-null  object\n",
      " 2   Artist      166153 non-null  object\n",
      " 3   Track       166153 non-null  object\n",
      " 4   Album       166141 non-null  object\n",
      " 5   Date        166153 non-null  object\n",
      " 6   Time        166153 non-null  object\n",
      "dtypes: int64(1), object(6)\n",
      "memory usage: 8.9+ MB\n",
      "None\n",
      "          Unnamed: 0\n",
      "count  166153.000000\n",
      "mean   123210.070682\n",
      "std     80248.930071\n",
      "min         0.000000\n",
      "25%     52401.000000\n",
      "50%    117509.000000\n",
      "75%    191651.000000\n",
      "max    265628.000000\n"
     ]
    }
   ],
   "source": [
    "print(df.info())\n",
    "print(df.describe())"
   ]
  },
  {
   "cell_type": "code",
   "execution_count": 10,
   "metadata": {},
   "outputs": [
    {
     "name": "stdout",
     "output_type": "stream",
     "text": [
      "Unnamed: 0     0\n",
      "Username       0\n",
      "Artist         0\n",
      "Track          0\n",
      "Album         12\n",
      "Date           0\n",
      "Time           0\n",
      "dtype: int64\n"
     ]
    }
   ],
   "source": [
    "print(df.isnull().sum()) #count null values per column"
   ]
  },
  {
   "cell_type": "code",
   "execution_count": 11,
   "metadata": {},
   "outputs": [
    {
     "data": {
      "text/html": [
       "<div>\n",
       "<style scoped>\n",
       "    .dataframe tbody tr th:only-of-type {\n",
       "        vertical-align: middle;\n",
       "    }\n",
       "\n",
       "    .dataframe tbody tr th {\n",
       "        vertical-align: top;\n",
       "    }\n",
       "\n",
       "    .dataframe thead th {\n",
       "        text-align: right;\n",
       "    }\n",
       "</style>\n",
       "<table border=\"1\" class=\"dataframe\">\n",
       "  <thead>\n",
       "    <tr style=\"text-align: right;\">\n",
       "      <th></th>\n",
       "      <th>Unnamed: 0</th>\n",
       "      <th>Username</th>\n",
       "      <th>Artist</th>\n",
       "      <th>Track</th>\n",
       "      <th>Album</th>\n",
       "      <th>Date</th>\n",
       "      <th>Time</th>\n",
       "    </tr>\n",
       "  </thead>\n",
       "  <tbody>\n",
       "    <tr>\n",
       "      <th>0</th>\n",
       "      <td>0</td>\n",
       "      <td>Babs_05</td>\n",
       "      <td>Isobel Campbell</td>\n",
       "      <td>The Circus Is Leaving Town</td>\n",
       "      <td>Ballad of the Broken Seas</td>\n",
       "      <td>31 Jan 2021</td>\n",
       "      <td>23:36</td>\n",
       "    </tr>\n",
       "    <tr>\n",
       "      <th>1</th>\n",
       "      <td>1</td>\n",
       "      <td>Babs_05</td>\n",
       "      <td>Isobel Campbell</td>\n",
       "      <td>Dusty Wreath</td>\n",
       "      <td>Ballad of the Broken Seas</td>\n",
       "      <td>31 Jan 2021</td>\n",
       "      <td>23:32</td>\n",
       "    </tr>\n",
       "    <tr>\n",
       "      <th>2</th>\n",
       "      <td>2</td>\n",
       "      <td>Babs_05</td>\n",
       "      <td>Isobel Campbell</td>\n",
       "      <td>Honey Child What Can I Do?</td>\n",
       "      <td>Ballad of the Broken Seas</td>\n",
       "      <td>31 Jan 2021</td>\n",
       "      <td>23:28</td>\n",
       "    </tr>\n",
       "    <tr>\n",
       "      <th>3</th>\n",
       "      <td>3</td>\n",
       "      <td>Babs_05</td>\n",
       "      <td>Isobel Campbell</td>\n",
       "      <td>It's Hard To Kill A Bad Thing</td>\n",
       "      <td>Ballad of the Broken Seas</td>\n",
       "      <td>31 Jan 2021</td>\n",
       "      <td>23:25</td>\n",
       "    </tr>\n",
       "    <tr>\n",
       "      <th>4</th>\n",
       "      <td>4</td>\n",
       "      <td>Babs_05</td>\n",
       "      <td>Isobel Campbell</td>\n",
       "      <td>Saturday's Gone</td>\n",
       "      <td>Ballad of the Broken Seas</td>\n",
       "      <td>31 Jan 2021</td>\n",
       "      <td>23:21</td>\n",
       "    </tr>\n",
       "    <tr>\n",
       "      <th>...</th>\n",
       "      <td>...</td>\n",
       "      <td>...</td>\n",
       "      <td>...</td>\n",
       "      <td>...</td>\n",
       "      <td>...</td>\n",
       "      <td>...</td>\n",
       "      <td>...</td>\n",
       "    </tr>\n",
       "    <tr>\n",
       "      <th>166148</th>\n",
       "      <td>265624</td>\n",
       "      <td>Orlenay</td>\n",
       "      <td>Kelly Lee Owens</td>\n",
       "      <td>Arpeggi</td>\n",
       "      <td>Inner Song</td>\n",
       "      <td>30 Jan 2021</td>\n",
       "      <td>18:30</td>\n",
       "    </tr>\n",
       "    <tr>\n",
       "      <th>166149</th>\n",
       "      <td>265625</td>\n",
       "      <td>Orlenay</td>\n",
       "      <td>Caterina Barbieri</td>\n",
       "      <td>Bow of Perception</td>\n",
       "      <td>Ecstatic Computation</td>\n",
       "      <td>30 Jan 2021</td>\n",
       "      <td>18:19</td>\n",
       "    </tr>\n",
       "    <tr>\n",
       "      <th>166150</th>\n",
       "      <td>265626</td>\n",
       "      <td>Orlenay</td>\n",
       "      <td>Caterina Barbieri</td>\n",
       "      <td>Pinnacles of You</td>\n",
       "      <td>Ecstatic Computation</td>\n",
       "      <td>30 Jan 2021</td>\n",
       "      <td>18:13</td>\n",
       "    </tr>\n",
       "    <tr>\n",
       "      <th>166151</th>\n",
       "      <td>265627</td>\n",
       "      <td>Orlenay</td>\n",
       "      <td>Caterina Barbieri</td>\n",
       "      <td>Arrows of Time</td>\n",
       "      <td>Ecstatic Computation</td>\n",
       "      <td>30 Jan 2021</td>\n",
       "      <td>18:08</td>\n",
       "    </tr>\n",
       "    <tr>\n",
       "      <th>166152</th>\n",
       "      <td>265628</td>\n",
       "      <td>Orlenay</td>\n",
       "      <td>Caterina Barbieri</td>\n",
       "      <td>Closest approach to your Orbit</td>\n",
       "      <td>Ecstatic Computation</td>\n",
       "      <td>30 Jan 2021</td>\n",
       "      <td>18:02</td>\n",
       "    </tr>\n",
       "  </tbody>\n",
       "</table>\n",
       "<p>166141 rows × 7 columns</p>\n",
       "</div>"
      ],
      "text/plain": [
       "        Unnamed: 0 Username             Artist  \\\n",
       "0                0  Babs_05    Isobel Campbell   \n",
       "1                1  Babs_05    Isobel Campbell   \n",
       "2                2  Babs_05    Isobel Campbell   \n",
       "3                3  Babs_05    Isobel Campbell   \n",
       "4                4  Babs_05    Isobel Campbell   \n",
       "...            ...      ...                ...   \n",
       "166148      265624  Orlenay    Kelly Lee Owens   \n",
       "166149      265625  Orlenay  Caterina Barbieri   \n",
       "166150      265626  Orlenay  Caterina Barbieri   \n",
       "166151      265627  Orlenay  Caterina Barbieri   \n",
       "166152      265628  Orlenay  Caterina Barbieri   \n",
       "\n",
       "                                 Track                      Album  \\\n",
       "0           The Circus Is Leaving Town  Ballad of the Broken Seas   \n",
       "1                         Dusty Wreath  Ballad of the Broken Seas   \n",
       "2           Honey Child What Can I Do?  Ballad of the Broken Seas   \n",
       "3        It's Hard To Kill A Bad Thing  Ballad of the Broken Seas   \n",
       "4                      Saturday's Gone  Ballad of the Broken Seas   \n",
       "...                                ...                        ...   \n",
       "166148                         Arpeggi                 Inner Song   \n",
       "166149               Bow of Perception       Ecstatic Computation   \n",
       "166150                Pinnacles of You       Ecstatic Computation   \n",
       "166151                  Arrows of Time       Ecstatic Computation   \n",
       "166152  Closest approach to your Orbit       Ecstatic Computation   \n",
       "\n",
       "               Date    Time  \n",
       "0       31 Jan 2021   23:36  \n",
       "1       31 Jan 2021   23:32  \n",
       "2       31 Jan 2021   23:28  \n",
       "3       31 Jan 2021   23:25  \n",
       "4       31 Jan 2021   23:21  \n",
       "...             ...     ...  \n",
       "166148  30 Jan 2021   18:30  \n",
       "166149  30 Jan 2021   18:19  \n",
       "166150  30 Jan 2021   18:13  \n",
       "166151  30 Jan 2021   18:08  \n",
       "166152  30 Jan 2021   18:02  \n",
       "\n",
       "[166141 rows x 7 columns]"
      ]
     },
     "execution_count": 11,
     "metadata": {},
     "output_type": "execute_result"
    }
   ],
   "source": [
    "df.dropna()"
   ]
  },
  {
   "cell_type": "code",
   "execution_count": 12,
   "metadata": {},
   "outputs": [],
   "source": [
    "df = df.drop_duplicates()"
   ]
  },
  {
   "cell_type": "code",
   "execution_count": 13,
   "metadata": {},
   "outputs": [
    {
     "name": "stdout",
     "output_type": "stream",
     "text": [
      "Index(['Unnamed: 0', 'Username', 'Artist', 'Track', 'Album', 'Date', 'Time'], dtype='object')\n"
     ]
    }
   ],
   "source": [
    "column_names = df.columns\n",
    "print(column_names)"
   ]
  },
  {
   "cell_type": "code",
   "execution_count": 14,
   "metadata": {},
   "outputs": [],
   "source": [
    "df['play_count'] = df.groupby(['Username', 'Track'])['Track'].transform('count')"
   ]
  },
  {
   "cell_type": "code",
   "execution_count": 15,
   "metadata": {},
   "outputs": [
    {
     "name": "stdout",
     "output_type": "stream",
     "text": [
      "   Unnamed: 0 Username           Artist                          Track  \\\n",
      "0           0  Babs_05  Isobel Campbell     The Circus Is Leaving Town   \n",
      "1           1  Babs_05  Isobel Campbell                   Dusty Wreath   \n",
      "2           2  Babs_05  Isobel Campbell     Honey Child What Can I Do?   \n",
      "3           3  Babs_05  Isobel Campbell  It's Hard To Kill A Bad Thing   \n",
      "4           4  Babs_05  Isobel Campbell                Saturday's Gone   \n",
      "\n",
      "                       Album         Date    Time  play_count  \n",
      "0  Ballad of the Broken Seas  31 Jan 2021   23:36           1  \n",
      "1  Ballad of the Broken Seas  31 Jan 2021   23:32           1  \n",
      "2  Ballad of the Broken Seas  31 Jan 2021   23:28           1  \n",
      "3  Ballad of the Broken Seas  31 Jan 2021   23:25           1  \n",
      "4  Ballad of the Broken Seas  31 Jan 2021   23:21           1  \n"
     ]
    }
   ],
   "source": [
    "print(df.head())"
   ]
  },
  {
   "cell_type": "code",
   "execution_count": 16,
   "metadata": {},
   "outputs": [],
   "source": [
    "df_filtered = df[df['play_count'] > 1]"
   ]
  },
  {
   "cell_type": "code",
   "execution_count": 17,
   "metadata": {},
   "outputs": [
    {
     "name": "stdout",
     "output_type": "stream",
     "text": [
      "       Username                                      Track  play_count\n",
      "22      Babs_05                             Brace Yourself           2\n",
      "23      Babs_05                                   Badibaba           6\n",
      "24      Babs_05  Big Climb - Jack Foals Grouse Party Remix           6\n",
      "26      Babs_05                                 Fellowship           2\n",
      "27      Babs_05              Bad to Tha Bone (feat. Giggs)           2\n",
      "...         ...                                        ...         ...\n",
      "166087  Orlenay                            BROWN SKIN GIRL           2\n",
      "166088  Orlenay                           DON'T JEALOUS ME           2\n",
      "166089  Orlenay                                     BIGGER           3\n",
      "166095  Orlenay           MOOD 4 EVA (feat. Oumou Sangaré)           2\n",
      "166104  Orlenay               the stars (mufasa interlude)           2\n",
      "\n",
      "[22540 rows x 3 columns]\n"
     ]
    }
   ],
   "source": [
    "print(df_filtered[['Username', 'Track', 'play_count']].drop_duplicates())"
   ]
  },
  {
   "cell_type": "code",
   "execution_count": null,
   "metadata": {},
   "outputs": [
    {
     "data": {
      "image/png": "[encoded data removed]",
      "text/plain": [
       "<Figure size 1000x600 with 1 Axes>"
      ]
     },
     "metadata": {},
     "output_type": "display_data"
    }
   ],
   "source": [
    "import matplotlib.pyplot as plt\n",
    "\n",
    "global_play_counts = df_filtered.groupby('Track')['play_count'].sum().sort_values(ascending=False)\n",
    "\n",
    "plt.figure(figsize=(10, 6))\n",
    "global_play_counts.head(10).plot(kind='bar', color='lightgreen')\n",
    "plt.title('Músicas Mais Populares')\n",
    "plt.xlabel('Música')\n",
    "plt.ylabel('Play Count')\n",
    "plt.xticks(rotation=45)\n",
    "plt.show()"
   ]
  },
  {
   "cell_type": "code",
   "execution_count": null,
   "metadata": {},
   "outputs": [
    {
     "name": "stdout",
     "output_type": "stream",
     "text": [
      "Músicas com o maior play_count:\n",
      "          Username                                  Track  play_count\n",
      "2980       Babs_05                      Should've Said It          50\n",
      "23267      Babs_05                        Peur des filles          50\n",
      "49075     franhale  Everyday & Everynight - Straight Pass          50\n",
      "99842   massdosage                        Peur des filles          50\n",
      "116468  Knapster01                                 Barrio          50\n"
     ]
    }
   ],
   "source": [
    "max_play_count = df['play_count'].max()\n",
    "\n",
    "top_songs = df[df['play_count'] == max_play_count]\n",
    "\n",
    "print(\"Músicas com o maior play_count:\")\n",
    "print(top_songs[['Username', 'Track', 'play_count']].drop_duplicates())"
   ]
  },
  {
   "cell_type": "code",
   "execution_count": null,
   "metadata": {},
   "outputs": [],
   "source": []
  }
 ],
 "metadata": {
  "kernelspec": {
   "display_name": ".venv",
   "language": "python",
   "name": "python3"
  },
  "language_info": {
   "codemirror_mode": {
    "name": "ipython",
    "version": 3
   },
   "file_extension": ".py",
   "mimetype": "text/x-python",
   "name": "python",
   "nbconvert_exporter": "python",
   "pygments_lexer": "ipython3",
   "version": "3.12.7"
  }
 },
 "nbformat": 4,
 "nbformat_minor": 2
}
