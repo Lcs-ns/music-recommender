{
 "cells": [
  {
   "cell_type": "code",
   "execution_count": 15,
   "metadata": {},
   "outputs": [
    {
     "name": "stdout",
     "output_type": "stream",
     "text": [
      "   Unnamed: 0 Username           Artist                          Track  \\\n",
      "0           0  Babs_05  Isobel Campbell     The Circus Is Leaving Town   \n",
      "1           1  Babs_05  Isobel Campbell                   Dusty Wreath   \n",
      "2           2  Babs_05  Isobel Campbell     Honey Child What Can I Do?   \n",
      "3           3  Babs_05  Isobel Campbell  It's Hard To Kill A Bad Thing   \n",
      "4           4  Babs_05  Isobel Campbell                Saturday's Gone   \n",
      "\n",
      "                       Album         Date    Time  \n",
      "0  Ballad of the Broken Seas  31 Jan 2021   23:36  \n",
      "1  Ballad of the Broken Seas  31 Jan 2021   23:32  \n",
      "2  Ballad of the Broken Seas  31 Jan 2021   23:28  \n",
      "3  Ballad of the Broken Seas  31 Jan 2021   23:25  \n",
      "4  Ballad of the Broken Seas  31 Jan 2021   23:21  \n"
     ]
    }
   ],
   "source": [
    "import pandas as pd\n",
    "\n",
    "df = pd.read_csv('../data/raw//Last.fm_data.csv')\n",
    "print(df.head())"
   ]
  },
  {
   "cell_type": "code",
   "execution_count": null,
   "metadata": {},
   "outputs": [],
   "source": []
  }
 ],
 "metadata": {
  "kernelspec": {
   "display_name": ".venv",
   "language": "python",
   "name": "python3"
  },
  "language_info": {
   "codemirror_mode": {
    "name": "ipython",
    "version": 3
   },
   "file_extension": ".py",
   "mimetype": "text/x-python",
   "name": "python",
   "nbconvert_exporter": "python",
   "pygments_lexer": "ipython3",
   "version": "3.12.7"
  }
 },
 "nbformat": 4,
 "nbformat_minor": 2
}
